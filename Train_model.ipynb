{
 "cells": [
  {
   "cell_type": "code",
   "execution_count": 1,
   "metadata": {},
   "outputs": [
    {
     "name": "stderr",
     "output_type": "stream",
     "text": [
      "d:\\Projects\\finetuner\\My_env\\lib\\site-packages\\tqdm\\auto.py:21: TqdmWarning: IProgress not found. Please update jupyter and ipywidgets. See https://ipywidgets.readthedocs.io/en/stable/user_install.html\n",
      "  from .autonotebook import tqdm as notebook_tqdm\n"
     ]
    }
   ],
   "source": [
    "import torch\n",
    "import torch.nn as nn\n",
    "import torchvision\n",
    "from transformer.Vision_transformer import VisionTransformer, CustomDataset\n",
    "import torchvision.transforms as transforms\n",
    "from pprint import pprint\n",
    "from torchsummary import summary\n",
    "import json"
   ]
  },
  {
   "cell_type": "code",
   "execution_count": 2,
   "metadata": {},
   "outputs": [],
   "source": [
    "device = torch.device(\"cuda\" if torch.cuda.is_available() else \"cpu\")"
   ]
  },
  {
   "cell_type": "code",
   "execution_count": 3,
   "metadata": {},
   "outputs": [
    {
     "name": "stdout",
     "output_type": "stream",
     "text": [
      "Downloading http://fashion-mnist.s3-website.eu-central-1.amazonaws.com/train-images-idx3-ubyte.gz\n",
      "Downloading http://fashion-mnist.s3-website.eu-central-1.amazonaws.com/train-images-idx3-ubyte.gz to ./data\\FashionMNIST\\raw\\train-images-idx3-ubyte.gz\n"
     ]
    },
    {
     "name": "stderr",
     "output_type": "stream",
     "text": [
      "100%|██████████| 26421880/26421880 [01:06<00:00, 394569.57it/s]\n"
     ]
    },
    {
     "name": "stdout",
     "output_type": "stream",
     "text": [
      "Extracting ./data\\FashionMNIST\\raw\\train-images-idx3-ubyte.gz to ./data\\FashionMNIST\\raw\n",
      "\n",
      "Downloading http://fashion-mnist.s3-website.eu-central-1.amazonaws.com/train-labels-idx1-ubyte.gz\n",
      "Downloading http://fashion-mnist.s3-website.eu-central-1.amazonaws.com/train-labels-idx1-ubyte.gz to ./data\\FashionMNIST\\raw\\train-labels-idx1-ubyte.gz\n"
     ]
    },
    {
     "name": "stderr",
     "output_type": "stream",
     "text": [
      "100%|██████████| 29515/29515 [00:00<00:00, 101217.67it/s]\n"
     ]
    },
    {
     "name": "stdout",
     "output_type": "stream",
     "text": [
      "Extracting ./data\\FashionMNIST\\raw\\train-labels-idx1-ubyte.gz to ./data\\FashionMNIST\\raw\n",
      "\n",
      "Downloading http://fashion-mnist.s3-website.eu-central-1.amazonaws.com/t10k-images-idx3-ubyte.gz\n",
      "Downloading http://fashion-mnist.s3-website.eu-central-1.amazonaws.com/t10k-images-idx3-ubyte.gz to ./data\\FashionMNIST\\raw\\t10k-images-idx3-ubyte.gz\n"
     ]
    },
    {
     "name": "stderr",
     "output_type": "stream",
     "text": [
      "100%|██████████| 4422102/4422102 [00:07<00:00, 595327.06it/s]\n"
     ]
    },
    {
     "name": "stdout",
     "output_type": "stream",
     "text": [
      "Extracting ./data\\FashionMNIST\\raw\\t10k-images-idx3-ubyte.gz to ./data\\FashionMNIST\\raw\n",
      "\n",
      "Downloading http://fashion-mnist.s3-website.eu-central-1.amazonaws.com/t10k-labels-idx1-ubyte.gz\n",
      "Downloading http://fashion-mnist.s3-website.eu-central-1.amazonaws.com/t10k-labels-idx1-ubyte.gz to ./data\\FashionMNIST\\raw\\t10k-labels-idx1-ubyte.gz\n"
     ]
    },
    {
     "name": "stderr",
     "output_type": "stream",
     "text": [
      "100%|██████████| 5148/5148 [00:00<?, ?it/s]\n"
     ]
    },
    {
     "name": "stdout",
     "output_type": "stream",
     "text": [
      "Extracting ./data\\FashionMNIST\\raw\\t10k-labels-idx1-ubyte.gz to ./data\\FashionMNIST\\raw\n",
      "\n"
     ]
    }
   ],
   "source": [
    "transform = transforms.Compose([\n",
    "    transforms.ToTensor(),\n",
    "])   # Transform object to apply on the dataset.\n",
    "\n",
    "train_dataset = torchvision.datasets.FashionMNIST(root='./data', train=True, download=True, transform=transform)\n",
    "test_dataset = torchvision.datasets.FashionMNIST(root='./data', train=False, download=True, transform=transform)\n",
    "\n",
    "# train_dataset = torchvision.datasets.MNIST(root='./data', train=True, download=True, transform=transform)\n",
    "# test_dataset = torchvision.datasets.MNIST(root='./data', train=False, download=True, transform=transform)\n",
    "# Loading/Downloading dataset. `download` can be `False` if the data is present in the root directory\n",
    "# Else it will download the dataset to to the root location.\n",
    "\n",
    "device = torch.device(\"cuda\" if torch.cuda.is_available() else \"cpu\")\n",
    "# Getting the device to compute on. `cuda` if GPU is available, else `cpu`."
   ]
  },
  {
   "cell_type": "code",
   "execution_count": null,
   "metadata": {},
   "outputs": [],
   "source": []
  },
  {
   "cell_type": "code",
   "execution_count": 4,
   "metadata": {},
   "outputs": [],
   "source": [
    "with open('transformer/config.json') as f:\n",
    "    custom_config = json.load(f)\n",
    "# Custom configurations for the VisionTransformer.\n",
    "# Transformer can be customized with these configurations.\n",
    "# Refer to documentation of the class VisionTransformer\n",
    "# (`VisionTransformer.__doc__`, use pprint for cleaner display)\n",
    "# for exact details of the customization.\n"
   ]
  },
  {
   "cell_type": "code",
   "execution_count": 5,
   "metadata": {},
   "outputs": [],
   "source": [
    "MNIST_ViT = VisionTransformer(**custom_config).to(device=device)\n",
    "# VisionTransformer object from the custom configuration"
   ]
  },
  {
   "cell_type": "code",
   "execution_count": 6,
   "metadata": {},
   "outputs": [
    {
     "name": "stdout",
     "output_type": "stream",
     "text": [
      "----------------------------------------------------------------\n",
      "        Layer (type)               Output Shape         Param #\n",
      "================================================================\n",
      "            Conv2d-1             [-1, 32, 7, 7]             544\n",
      "        PatchEmbed-2               [-1, 49, 32]               0\n",
      "           Dropout-3               [-1, 50, 32]               0\n",
      "         LayerNorm-4               [-1, 50, 32]              64\n",
      "            Linear-5               [-1, 50, 96]           3,168\n",
      "           Dropout-6            [-1, 2, 50, 50]               0\n",
      "            Linear-7               [-1, 50, 32]           1,056\n",
      "           Dropout-8               [-1, 50, 32]               0\n",
      "         Attention-9               [-1, 50, 32]               0\n",
      "        LayerNorm-10               [-1, 50, 32]              64\n",
      "           Linear-11               [-1, 50, 12]             396\n",
      "             GELU-12               [-1, 50, 12]               0\n",
      "          Dropout-13               [-1, 50, 12]               0\n",
      "           Linear-14               [-1, 50, 32]             416\n",
      "          Dropout-15               [-1, 50, 32]               0\n",
      "              MLP-16               [-1, 50, 32]               0\n",
      "            Block-17               [-1, 50, 32]               0\n",
      "        LayerNorm-18               [-1, 50, 32]              64\n",
      "           Linear-19               [-1, 50, 96]           3,168\n",
      "          Dropout-20            [-1, 2, 50, 50]               0\n",
      "           Linear-21               [-1, 50, 32]           1,056\n",
      "          Dropout-22               [-1, 50, 32]               0\n",
      "        Attention-23               [-1, 50, 32]               0\n",
      "        LayerNorm-24               [-1, 50, 32]              64\n",
      "           Linear-25               [-1, 50, 12]             396\n",
      "             GELU-26               [-1, 50, 12]               0\n",
      "          Dropout-27               [-1, 50, 12]               0\n",
      "           Linear-28               [-1, 50, 32]             416\n",
      "          Dropout-29               [-1, 50, 32]               0\n",
      "              MLP-30               [-1, 50, 32]               0\n",
      "            Block-31               [-1, 50, 32]               0\n",
      "        LayerNorm-32               [-1, 50, 32]              64\n",
      "           Linear-33                   [-1, 10]             330\n",
      "================================================================\n",
      "Total params: 11,266\n",
      "Trainable params: 11,266\n",
      "Non-trainable params: 0\n",
      "----------------------------------------------------------------\n",
      "Input size (MB): 0.00\n",
      "Forward/backward pass size (MB): 0.45\n",
      "Params size (MB): 0.04\n",
      "Estimated Total Size (MB): 0.49\n",
      "----------------------------------------------------------------\n"
     ]
    }
   ],
   "source": [
    "summary(MNIST_ViT, (1, 28, 28))\n",
    "# Prints summary of each layer in the transformer for the given input shape"
   ]
  },
  {
   "cell_type": "code",
   "execution_count": 7,
   "metadata": {},
   "outputs": [],
   "source": [
    "train_ds = CustomDataset(data=train_dataset)\n",
    "test_ds = CustomDataset(data=test_dataset)\n",
    "# Made custom dataset objects from the MNIST dataset.\n",
    "\n",
    "train_loader = torch.utils.data.DataLoader(train_ds, batch_size=64, shuffle=True)\n",
    "test_loader = torch.utils.data.DataLoader(test_ds, batch_size=64, shuffle=False)\n",
    "# DataLoaders for fast implementation of loading batch-wise data.\n",
    "\n",
    "criterion = nn.CrossEntropyLoss()\n",
    "# Loss criteria for multiclass classification task.\n",
    "optimizer = torch.optim.Adam(MNIST_ViT.parameters(), lr=0.001)\n",
    "# Optimizer to update weights after calculating gradients.\n"
   ]
  },
  {
   "cell_type": "code",
   "execution_count": 8,
   "metadata": {},
   "outputs": [
    {
     "name": "stdout",
     "output_type": "stream",
     "text": [
      "Epoch [1/30], Loss: 1.0259\n",
      "Epoch [2/30], Loss: 0.6643\n",
      "Epoch [3/30], Loss: 0.6050\n",
      "Epoch [4/30], Loss: 0.5691\n",
      "Epoch [5/30], Loss: 0.5491\n",
      "Epoch [6/30], Loss: 0.5348\n",
      "Epoch [7/30], Loss: 0.5187\n",
      "Epoch [8/30], Loss: 0.5114\n",
      "Epoch [9/30], Loss: 0.5046\n",
      "Epoch [10/30], Loss: 0.4975\n",
      "Epoch [11/30], Loss: 0.4912\n",
      "Epoch [12/30], Loss: 0.4847\n",
      "Epoch [13/30], Loss: 0.4850\n",
      "Epoch [14/30], Loss: 0.4772\n",
      "Epoch [15/30], Loss: 0.4721\n",
      "Epoch [16/30], Loss: 0.4747\n",
      "Epoch [17/30], Loss: 0.4707\n",
      "Epoch [18/30], Loss: 0.4687\n",
      "Epoch [19/30], Loss: 0.4652\n",
      "Epoch [20/30], Loss: 0.4601\n",
      "Epoch [21/30], Loss: 0.4587\n",
      "Epoch [22/30], Loss: 0.4557\n",
      "Epoch [23/30], Loss: 0.4549\n",
      "Epoch [24/30], Loss: 0.4498\n",
      "Epoch [25/30], Loss: 0.4486\n",
      "Epoch [26/30], Loss: 0.4459\n",
      "Epoch [27/30], Loss: 0.4436\n",
      "Epoch [28/30], Loss: 0.4411\n",
      "Epoch [29/30], Loss: 0.4412\n",
      "Epoch [30/30], Loss: 0.4424\n"
     ]
    }
   ],
   "source": [
    "num_epochs = 30\n",
    "# Number of Epochs to run the following training loop for\n",
    "for epoch in range(num_epochs):\n",
    "    MNIST_ViT.train()\n",
    "    # Setting the model in training mode\n",
    "    running_loss = 0.0  \n",
    "    # Parameter to store the total loss over dataset in the epoch. This has no role in training.\n",
    "    for images, labels in train_loader:\n",
    "        images, labels = images.to(device), labels.to(device)\n",
    "        #loading images and labels to device. In our case, it is the cuda GPU device.\n",
    "        \n",
    "        optimizer.zero_grad()\n",
    "        outputs = MNIST_ViT(images)\n",
    "        # Predicting classes of the input batch.\n",
    "        loss = criterion(outputs, labels)\n",
    "        # Calculating loss of the predicted classes with the ground truth\n",
    "        loss.backward()\n",
    "        # Backpropagation step\n",
    "        optimizer.step()\n",
    "        # Updating the weights according to the optimizer's rules.\n",
    "        \n",
    "        running_loss += loss.item()\n",
    "        # Calculating the loss over the dataset\n",
    "    print(f\"Epoch [{epoch+1}/{num_epochs}], Loss: {running_loss/len(train_loader):.4f}\")\n",
    "    "
   ]
  },
  {
   "cell_type": "code",
   "execution_count": 12,
   "metadata": {},
   "outputs": [
    {
     "name": "stdout",
     "output_type": "stream",
     "text": [
      "Accuracy on test set: 83.60%\n"
     ]
    }
   ],
   "source": [
    "MNIST_ViT.eval()\n",
    "# Setting the model in evaluation mode.\n",
    "correct, total = 0, 0\n",
    "with torch.no_grad():\n",
    "    for images, labels in test_loader:\n",
    "        images, labels = images.to(device), labels.to(device)\n",
    "        # Loading batch images and ground truth onto device\n",
    "        outputs = MNIST_ViT(images)\n",
    "        # Calculating logits.\n",
    "        _, predicted = torch.max(outputs.data, 1)\n",
    "        total += labels.size(0)\n",
    "        correct += (predicted == labels).sum().item()\n",
    "        # Updated number of correct predictions and total predictions.\n",
    "\n",
    "print(f\"Accuracy on test set: {(100 * correct / total):.2f}%\")"
   ]
  },
  {
   "cell_type": "code",
   "execution_count": 13,
   "metadata": {},
   "outputs": [
    {
     "ename": "",
     "evalue": "",
     "output_type": "error",
     "traceback": [
      "\u001b[1;31mThe Kernel crashed while executing code in the current cell or a previous cell. \n",
      "\u001b[1;31mPlease review the code in the cell(s) to identify a possible cause of the failure. \n",
      "\u001b[1;31mClick <a href='https://aka.ms/vscodeJupyterKernelCrash'>here</a> for more info. \n",
      "\u001b[1;31mView Jupyter <a href='command:jupyter.viewOutput'>log</a> for further details."
     ]
    }
   ],
   "source": [
    "torch.save({\n",
    "    'model_state_dict': MNIST_ViT.state_dict()\n",
    "}, \"fashionMNIST.pth\" )\n",
    "# Saving the trained model"
   ]
  },
  {
   "cell_type": "code",
   "execution_count": null,
   "metadata": {},
   "outputs": [],
   "source": []
  },
  {
   "cell_type": "code",
   "execution_count": null,
   "metadata": {},
   "outputs": [],
   "source": []
  },
  {
   "cell_type": "code",
   "execution_count": null,
   "metadata": {},
   "outputs": [],
   "source": []
  }
 ],
 "metadata": {
  "kernelspec": {
   "display_name": "My_env",
   "language": "python",
   "name": "python3"
  },
  "language_info": {
   "codemirror_mode": {
    "name": "ipython",
    "version": 3
   },
   "file_extension": ".py",
   "mimetype": "text/x-python",
   "name": "python",
   "nbconvert_exporter": "python",
   "pygments_lexer": "ipython3",
   "version": "3.9.7"
  }
 },
 "nbformat": 4,
 "nbformat_minor": 2
}
