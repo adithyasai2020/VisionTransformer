{
 "cells": [
  {
   "cell_type": "code",
   "execution_count": 1,
   "metadata": {},
   "outputs": [
    {
     "name": "stderr",
     "output_type": "stream",
     "text": [
      "d:\\Projects\\finetuner\\My_env\\lib\\site-packages\\tqdm\\auto.py:21: TqdmWarning: IProgress not found. Please update jupyter and ipywidgets. See https://ipywidgets.readthedocs.io/en/stable/user_install.html\n",
      "  from .autonotebook import tqdm as notebook_tqdm\n"
     ]
    }
   ],
   "source": [
    "import torch\n",
    "import torch.nn as nn\n",
    "from torch.utils.data import Dataset\n",
    "import torchvision\n",
    "from transformer.Vision_transformer import VisionTransformer, CustomDataset\n",
    "import torchvision.transforms as transforms\n",
    "from pprint import pprint\n",
    "from torchsummary import summary\n",
    "import json\n",
    "import numpy as np\n",
    "import os\n",
    "\n",
    "\n",
    "from torch.ao.quantization import get_default_qconfig\n",
    "from torch.ao.quantization.quantize_fx import prepare_fx, convert_fx\n",
    "from torch.ao.quantization import QConfigMapping"
   ]
  },
  {
   "cell_type": "code",
   "execution_count": 2,
   "metadata": {},
   "outputs": [
    {
     "name": "stdout",
     "output_type": "stream",
     "text": [
      "Using device : cpu\n"
     ]
    }
   ],
   "source": [
    "\n",
    "device = torch.device(\"cpu\")\n",
    "print(f\"Using device : {device}\")\n",
    "# We don't want to perform our quantization step on cuda GPU. It is not supported.\n",
    "with open('transformer/config.json') as f:\n",
    "    custom_config = json.load(f)\n",
    "# Custom configurations for the VisionTransformer.\n",
    "# Transformer can be customized with these configurations.\n",
    "# Refer to documentation of the class VisionTransformer\n",
    "# (`VisionTransformer.__doc__`, use pprint for cleaner display)\n",
    "# for exact details of the customization.\n"
   ]
  },
  {
   "cell_type": "code",
   "execution_count": 3,
   "metadata": {},
   "outputs": [
    {
     "data": {
      "text/plain": [
       "<All keys matched successfully>"
      ]
     },
     "execution_count": 3,
     "metadata": {},
     "output_type": "execute_result"
    }
   ],
   "source": [
    "# Load saved model\n",
    "float_model = VisionTransformer(**custom_config).to(device=device)\n",
    "\n",
    "# float_model = VisionTransformer(\n",
    "#     img_size=32,\n",
    "#     patch_size=8,\n",
    "#     in_chans=3,\n",
    "#     n_classes=10,\n",
    "#     embed_dim=128,\n",
    "#     depth=2,\n",
    "#     n_heads=2,\n",
    "#     mlp_ratio=4.,\n",
    "#     p=0.3,\n",
    "#     attn_p=0.3\n",
    "# ).to(device=device)\n",
    "checkpoint = torch.load(\"fashionMNIST.pth\")\n",
    "float_model.load_state_dict(checkpoint['model_state_dict'])"
   ]
  },
  {
   "cell_type": "code",
   "execution_count": 4,
   "metadata": {},
   "outputs": [],
   "source": [
    "transform = transforms.Compose([\n",
    "    transforms.ToTensor(),\n",
    "])   # Transform object to apply on the dataset.\n",
    "\n",
    "# train_dataset = torchvision.datasets.MNIST(root='./data', train=True, download=True, transform=transform)\n",
    "train_dataset = torchvision.datasets.FashionMNIST(root='./data', train=True, download=True, transform=transform)\n",
    "test_dataset = torchvision.datasets.FashionMNIST(root='./data', train=False, download=True, transform=transform)\n",
    "\n",
    "# Loading/Downloading dataset. `download` can be `False` if the data is present in the root directory\n",
    "# Else it will download the dataset to to the root location.\n",
    "\n",
    "train_ds = CustomDataset(data=train_dataset)\n",
    "test_ds = CustomDataset(data=test_dataset, device=device)\n",
    "# Made custom dataset objects from the MNIST dataset.\n",
    "\n",
    "train_loader = torch.utils.data.DataLoader(train_ds, batch_size=64, shuffle=True)\n",
    "test_loader = torch.utils.data.DataLoader(test_ds, batch_size=64, shuffle=False)\n",
    "# DataLoaders for fast implementation of loading batch-wise data.\n",
    "\n"
   ]
  },
  {
   "cell_type": "code",
   "execution_count": 5,
   "metadata": {},
   "outputs": [],
   "source": [
    "# transform = transforms.Compose([\n",
    "#     transforms.ToTensor(),  # Convert PIL Image to tensor\n",
    "#     transforms.Normalize((0.5, 0.5, 0.5), (0.5, 0.5, 0.5))  # Normalize the image tensors\n",
    "# ])\n",
    "\n",
    "# # Load CIFAR-10 training dataset\n",
    "# train_dataset = torchvision.datasets.CIFAR10(root='./data', train=True, download=True, transform=transform)\n",
    "\n",
    "# # Load CIFAR-10 test dataset\n",
    "# test_dataset = torchvision.datasets.CIFAR10(root='./data', train=False, download=True, transform=transform)\n",
    "\n",
    "# # Classes in CIFAR-10 dataset\n",
    "# classes = ('plane', 'car', 'bird', 'cat', 'deer', 'dog', 'frog', 'horse', 'ship', 'truck')\n",
    "\n",
    "\n",
    "# train_ds = CustomDataset(data=train_dataset)\n",
    "# test_ds = CustomDataset(data=test_dataset)\n",
    "# # Made custom dataset objects from the MNIST dataset.\n",
    "\n",
    "# train_loader = torch.utils.data.DataLoader(train_ds, batch_size=2048, shuffle=True)\n",
    "# test_loader = torch.utils.data.DataLoader(test_ds, batch_size=2048, shuffle=False)\n",
    "# # DataLoaders for fast implementation of loading batch-wise data.\n"
   ]
  },
  {
   "cell_type": "code",
   "execution_count": 6,
   "metadata": {},
   "outputs": [],
   "source": [
    "# qconfig = get_default_qconfig(\"x86\")\n",
    "\n",
    "max_bit_length = 4\n",
    "qconfig = torch.quantization.QConfig(\n",
    "    activation=torch.quantization.fake_quantize.FakeQuantize.with_args(observer = torch.quantization.observer.MovingAverageMinMaxObserver.with_args(dtype=torch.quint8), quant_min = 0 ,quant_max=2**(max_bit_length)-1, dtype=torch.quint8), \n",
    "    weight=torch.quantization.fake_quantize.FakeQuantize.with_args(observer = torch.quantization.observer.MovingAverageMinMaxObserver.with_args(dtype=torch.qint8), quant_min = 0 ,quant_max=2**(max_bit_length)-1, dtype=torch.qint8)\n",
    ")\n",
    "qconfig_mapping = QConfigMapping().set_global(qconfig)"
   ]
  },
  {
   "cell_type": "code",
   "execution_count": 7,
   "metadata": {},
   "outputs": [
    {
     "data": {
      "text/plain": [
       "QConfigMapping (\n",
       " global_qconfig\n",
       "  QConfig(activation=functools.partial(<class 'torch.ao.quantization.fake_quantize.FakeQuantize'>, observer=functools.partial(<class 'torch.ao.quantization.observer.MovingAverageMinMaxObserver'>, dtype=torch.quint8){}, quant_min=0, quant_max=31, dtype=torch.quint8){}, weight=functools.partial(<class 'torch.ao.quantization.fake_quantize.FakeQuantize'>, observer=functools.partial(<class 'torch.ao.quantization.observer.MovingAverageMinMaxObserver'>, dtype=torch.qint8){}, quant_min=0, quant_max=31, dtype=torch.qint8){})\n",
       " object_type_qconfigs\n",
       "  OrderedDict()\n",
       " module_name_regex_qconfigs\n",
       "  OrderedDict()\n",
       " module_name_qconfigs\n",
       "  OrderedDict()\n",
       " module_name_object_type_order_qconfigs\n",
       "  OrderedDict()\n",
       ")"
      ]
     },
     "execution_count": 7,
     "metadata": {},
     "output_type": "execute_result"
    }
   ],
   "source": [
    "qconfig_mapping"
   ]
  },
  {
   "cell_type": "code",
   "execution_count": 8,
   "metadata": {},
   "outputs": [],
   "source": [
    "def calibrate(model, data_loader):\n",
    "    model.eval()\n",
    "    with torch.no_grad():\n",
    "        for image, _ in data_loader:\n",
    "            image = image.to(device)\n",
    "            model(image)"
   ]
  },
  {
   "cell_type": "code",
   "execution_count": 9,
   "metadata": {},
   "outputs": [],
   "source": [
    "example_inputs = (next(iter(test_loader))[0]) # get an example input\n",
    "prepared_model = prepare_fx(float_model, qconfig_mapping, example_inputs=example_inputs ) "
   ]
  },
  {
   "cell_type": "code",
   "execution_count": 10,
   "metadata": {},
   "outputs": [],
   "source": [
    "calibrate(prepared_model, train_loader)"
   ]
  },
  {
   "cell_type": "code",
   "execution_count": 11,
   "metadata": {},
   "outputs": [],
   "source": [
    "quantized_model = convert_fx(prepared_model)"
   ]
  },
  {
   "cell_type": "code",
   "execution_count": 12,
   "metadata": {},
   "outputs": [
    {
     "data": {
      "text/plain": [
       "GraphModule(\n",
       "  (patch_embed): Module(\n",
       "    (proj): QuantizedConv2d(1, 32, kernel_size=(4, 4), stride=(4, 4), scale=0.15185439586639404, zero_point=15)\n",
       "  )\n",
       "  (pos_drop): QuantizedDropout(p=0.2, inplace=False)\n",
       "  (blocks): Module(\n",
       "    (0): Module(\n",
       "      (norm1): QuantizedLayerNorm((32,), eps=1e-06, elementwise_affine=True)\n",
       "      (attn): Module(\n",
       "        (qkv): QuantizedLinear(in_features=32, out_features=96, scale=0.3439686596393585, zero_point=14, qscheme=torch.per_tensor_affine)\n",
       "        (attn_drop): QuantizedDropout(p=0.2, inplace=False)\n",
       "        (proj): QuantizedLinear(in_features=32, out_features=32, scale=0.22318734228610992, zero_point=16, qscheme=torch.per_tensor_affine)\n",
       "        (proj_drop): QuantizedDropout(p=0.2, inplace=False)\n",
       "      )\n",
       "      (norm2): QuantizedLayerNorm((32,), eps=1e-06, elementwise_affine=True)\n",
       "      (mlp): Module(\n",
       "        (fc1): QuantizedLinear(in_features=32, out_features=12, scale=0.2986449599266052, zero_point=17, qscheme=torch.per_tensor_affine)\n",
       "        (act): GELU(approximate='none')\n",
       "        (drop): QuantizedDropout(p=0.0, inplace=False)\n",
       "        (fc2): QuantizedLinear(in_features=12, out_features=32, scale=0.23715168237686157, zero_point=17, qscheme=torch.per_tensor_affine)\n",
       "      )\n",
       "    )\n",
       "    (1): Module(\n",
       "      (norm1): QuantizedLayerNorm((32,), eps=1e-06, elementwise_affine=True)\n",
       "      (attn): Module(\n",
       "        (qkv): QuantizedLinear(in_features=32, out_features=96, scale=0.31766876578330994, zero_point=15, qscheme=torch.per_tensor_affine)\n",
       "        (attn_drop): QuantizedDropout(p=0.2, inplace=False)\n",
       "        (proj): QuantizedLinear(in_features=32, out_features=32, scale=0.37850505113601685, zero_point=15, qscheme=torch.per_tensor_affine)\n",
       "        (proj_drop): QuantizedDropout(p=0.2, inplace=False)\n",
       "      )\n",
       "      (norm2): QuantizedLayerNorm((32,), eps=1e-06, elementwise_affine=True)\n",
       "      (mlp): Module(\n",
       "        (fc1): QuantizedLinear(in_features=32, out_features=12, scale=0.4281577467918396, zero_point=15, qscheme=torch.per_tensor_affine)\n",
       "        (act): GELU(approximate='none')\n",
       "        (drop): QuantizedDropout(p=0.0, inplace=False)\n",
       "        (fc2): QuantizedLinear(in_features=12, out_features=32, scale=0.38025346398353577, zero_point=16, qscheme=torch.per_tensor_affine)\n",
       "      )\n",
       "    )\n",
       "  )\n",
       "  (norm): QuantizedLayerNorm((32,), eps=1e-06, elementwise_affine=True)\n",
       "  (head): QuantizedLinear(in_features=32, out_features=10, scale=0.6674273014068604, zero_point=13, qscheme=torch.per_tensor_affine)\n",
       ")"
      ]
     },
     "execution_count": 12,
     "metadata": {},
     "output_type": "execute_result"
    }
   ],
   "source": [
    "quantized_model"
   ]
  },
  {
   "cell_type": "code",
   "execution_count": 13,
   "metadata": {},
   "outputs": [],
   "source": [
    "def test(model):\n",
    "    correct, total = 0, 0\n",
    "    model.eval()\n",
    "    # Setting the model in evaluation mode.\n",
    "    with torch.no_grad():\n",
    "        for images, labels in test_loader:\n",
    "            images, labels = images.to(device), labels.to(device)\n",
    "            # Loading batch images and ground truth onto device\n",
    "            outputs = model(images)\n",
    "            \n",
    "            _, predicted = torch.max(outputs.data, 1)\n",
    "            total += labels.size(0)\n",
    "            correct += (predicted == labels).sum().item()\n",
    "        \n",
    "    return f\"Accuracy on test set: {(100 * correct / total):.2f}%\""
   ]
  },
  {
   "cell_type": "code",
   "execution_count": 14,
   "metadata": {},
   "outputs": [
    {
     "data": {
      "text/plain": [
       "'Accuracy on test set: 83.60%'"
      ]
     },
     "execution_count": 14,
     "metadata": {},
     "output_type": "execute_result"
    }
   ],
   "source": [
    "test(float_model)"
   ]
  },
  {
   "cell_type": "code",
   "execution_count": 15,
   "metadata": {},
   "outputs": [
    {
     "data": {
      "text/plain": [
       "'Accuracy on test set: 80.39%'"
      ]
     },
     "execution_count": 15,
     "metadata": {},
     "output_type": "execute_result"
    },
    {
     "ename": "",
     "evalue": "",
     "output_type": "error",
     "traceback": [
      "\u001b[1;31mThe Kernel crashed while executing code in the current cell or a previous cell. \n",
      "\u001b[1;31mPlease review the code in the cell(s) to identify a possible cause of the failure. \n",
      "\u001b[1;31mClick <a href='https://aka.ms/vscodeJupyterKernelCrash'>here</a> for more info. \n",
      "\u001b[1;31mView Jupyter <a href='command:jupyter.viewOutput'>log</a> for further details."
     ]
    }
   ],
   "source": [
    "test(quantized_model)"
   ]
  },
  {
   "cell_type": "code",
   "execution_count": null,
   "metadata": {},
   "outputs": [],
   "source": []
  },
  {
   "cell_type": "code",
   "execution_count": null,
   "metadata": {},
   "outputs": [],
   "source": []
  },
  {
   "cell_type": "code",
   "execution_count": null,
   "metadata": {},
   "outputs": [],
   "source": []
  },
  {
   "cell_type": "code",
   "execution_count": null,
   "metadata": {},
   "outputs": [],
   "source": []
  }
 ],
 "metadata": {
  "kernelspec": {
   "display_name": "My_env",
   "language": "python",
   "name": "python3"
  },
  "language_info": {
   "codemirror_mode": {
    "name": "ipython",
    "version": 3
   },
   "file_extension": ".py",
   "mimetype": "text/x-python",
   "name": "python",
   "nbconvert_exporter": "python",
   "pygments_lexer": "ipython3",
   "version": "3.9.7"
  }
 },
 "nbformat": 4,
 "nbformat_minor": 2
}
